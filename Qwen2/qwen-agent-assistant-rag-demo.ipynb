{
 "cells": [
  {
   "cell_type": "markdown",
   "id": "d2c18d9f-2ff1-457b-a47b-8399c6ade53d",
   "metadata": {},
   "source": [
    "# 测试RAG-QA"
   ]
  },
  {
   "cell_type": "code",
   "execution_count": 16,
   "id": "613eb650-cd43-4700-a1b5-dd0a68f5d697",
   "metadata": {},
   "outputs": [],
   "source": [
    "from qwen_agent.agents import Assistant\n",
    "\n",
    "# 从qwen_agent.llm模块导入get_chat_model函数\n",
    "from qwen_agent.llm import get_chat_model"
   ]
  },
  {
   "cell_type": "code",
   "execution_count": 17,
   "id": "db9b5639-d4e5-4bdf-9634-18fc3163da17",
   "metadata": {},
   "outputs": [],
   "source": [
    "# Define the agent\n",
    "bot = Assistant(llm={'model': 'Qwen2-7B-Instruct','model_server': 'http://localhost:8000/v1'},\n",
    "                name='Assistant',\n",
    "                description='使用RAG检索并回答，支持文件类型：PDF/Word/PPT/TXT/HTML。')"
   ]
  },
  {
   "cell_type": "code",
   "execution_count": 18,
   "id": "9d4edd35-5dd8-479b-9b2f-f0bec9d1ce6b",
   "metadata": {},
   "outputs": [
    {
     "name": "stderr",
     "output_type": "stream",
     "text": [
      "2024-07-02 09:13:01,156 - split_query.py - 82 - INFO - Extracted info from query: {\"information\": [\"文章标题\n",
      "2024-07-02 09:13:01,598 - memory.py - 113 - INFO - {\"keywords_zh\": [\"文章标题\"], \"keywords_en\": [\"Article Title\"], \"text\": \"文章标题\"}\n",
      "2024-07-02 09:13:01,599 - simple_doc_parser.py - 326 - INFO - Start parsing 谜语问答游戏.docx...\n",
      "2024-07-02 09:13:01,656 - simple_doc_parser.py - 365 - INFO - Finished parsing 谜语问答游戏.docx. Time spent: 0.05669236183166504 seconds.\n",
      "2024-07-02 09:13:01,658 - doc_parser.py - 114 - INFO - Start chunking 谜语问答游戏.docx (谜语问答游戏.docx)...\n",
      "2024-07-02 09:13:01,658 - doc_parser.py - 132 - INFO - Finished chunking 谜语问答游戏.docx (谜语问答游戏.docx). Time spent: 5.7220458984375e-05 seconds.\n",
      "2024-07-02 09:13:01,659 - base_search.py - 55 - INFO - all tokens: 311\n",
      "2024-07-02 09:13:01,660 - base_search.py - 58 - INFO - use full ref\n"
     ]
    },
    {
     "name": "stdout",
     "output_type": "stream",
     "text": [
      "[{'role': 'assistant', 'content': '文章', 'name': 'Assistant'}]\n",
      "[{'role': 'assistant', 'content': '文章标题', 'name': 'Assistant'}]\n",
      "[{'role': 'assistant', 'content': '文章标题是', 'name': 'Assistant'}]\n",
      "[{'role': 'assistant', 'content': '文章标题是“', 'name': 'Assistant'}]\n",
      "[{'role': 'assistant', 'content': '文章标题是“谜', 'name': 'Assistant'}]\n",
      "[{'role': 'assistant', 'content': '文章标题是“谜语', 'name': 'Assistant'}]\n",
      "[{'role': 'assistant', 'content': '文章标题是“谜语问答', 'name': 'Assistant'}]\n",
      "[{'role': 'assistant', 'content': '文章标题是“谜语问答游戏', 'name': 'Assistant'}]\n",
      "[{'role': 'assistant', 'content': '文章标题是“谜语问答游戏”。', 'name': 'Assistant'}]\n"
     ]
    }
   ],
   "source": [
    "messages = [{'role': 'user', 'content': [{'text': '文章标题是什么？'}, {'file': '谜语问答游戏.docx'}]}]\n",
    "for rsp in bot.run(messages):\n",
    "    print(rsp)"
   ]
  },
  {
   "cell_type": "code",
   "execution_count": 23,
   "id": "37ba08f4-ba02-4d61-8ed8-d3a64f2e4928",
   "metadata": {},
   "outputs": [
    {
     "name": "stderr",
     "output_type": "stream",
     "text": [
      "2024-07-02 09:17:03,950 - split_query.py - 82 - INFO - Extracted info from query: {\"information\": [\"什么东西会上升但不会下降？\n",
      "2024-07-02 09:17:04,488 - memory.py - 113 - INFO - {\"keywords_zh\": [\"上升\", \"下降\"], \"keywords_en\": [\"increase\", \"decrease\"], \"text\": \"什么东西会上升但不会下降？\"}\n",
      "2024-07-02 09:17:04,515 - simple_doc_parser.py - 324 - INFO - Read parsed 谜语问答游戏.docx from cache.\n",
      "2024-07-02 09:17:04,516 - doc_parser.py - 114 - INFO - Start chunking 谜语问答游戏.docx (谜语问答游戏.docx)...\n",
      "2024-07-02 09:17:04,516 - doc_parser.py - 132 - INFO - Finished chunking 谜语问答游戏.docx (谜语问答游戏.docx). Time spent: 3.743171691894531e-05 seconds.\n",
      "2024-07-02 09:17:04,517 - base_search.py - 55 - INFO - all tokens: 311\n",
      "2024-07-02 09:17:04,517 - base_search.py - 58 - INFO - use full ref\n"
     ]
    },
    {
     "name": "stdout",
     "output_type": "stream",
     "text": [
      "[{'role': 'assistant', 'content': '你的', 'name': 'Assistant'}]\n",
      "[{'role': 'assistant', 'content': '你的年龄', 'name': 'Assistant'}]\n",
      "[{'role': 'assistant', 'content': '你的年龄会上', 'name': 'Assistant'}]\n",
      "[{'role': 'assistant', 'content': '你的年龄会上升', 'name': 'Assistant'}]\n",
      "[{'role': 'assistant', 'content': '你的年龄会上升但', 'name': 'Assistant'}]\n",
      "[{'role': 'assistant', 'content': '你的年龄会上升但不会', 'name': 'Assistant'}]\n",
      "[{'role': 'assistant', 'content': '你的年龄会上升但不会下降', 'name': 'Assistant'}]\n",
      "[{'role': 'assistant', 'content': '你的年龄会上升但不会下降。', 'name': 'Assistant'}]\n"
     ]
    }
   ],
   "source": [
    "messages = [{'role': 'user', 'content': [{'text': '什么东西会上升但不会下降？'}, {'file': '谜语问答游戏.docx'}]}]\n",
    "for rsp in bot.run(messages):\n",
    "    print(rsp)"
   ]
  },
  {
   "cell_type": "code",
   "execution_count": 22,
   "id": "11bcd636-e888-411b-bf20-5439e2e98d57",
   "metadata": {},
   "outputs": [
    {
     "name": "stderr",
     "output_type": "stream",
     "text": [
      "2024-07-02 09:16:37,530 - split_query.py - 82 - INFO - Extracted info from query: {\"information\": [\"属于你的，但其他人比你使用它更多\n",
      "2024-07-02 09:16:38,446 - simple_doc_parser.py - 324 - INFO - Read parsed 谜语问答游戏.docx from cache.\n",
      "2024-07-02 09:16:38,447 - doc_parser.py - 114 - INFO - Start chunking 谜语问答游戏.docx (谜语问答游戏.docx)...\n",
      "2024-07-02 09:16:38,448 - doc_parser.py - 132 - INFO - Finished chunking 谜语问答游戏.docx (谜语问答游戏.docx). Time spent: 5.7220458984375e-05 seconds.\n",
      "2024-07-02 09:16:38,449 - base_search.py - 55 - INFO - all tokens: 311\n",
      "2024-07-02 09:16:38,449 - base_search.py - 58 - INFO - use full ref\n"
     ]
    },
    {
     "name": "stdout",
     "output_type": "stream",
     "text": [
      "[{'role': 'assistant', 'content': '这个问题', 'name': 'Assistant'}]\n",
      "[{'role': 'assistant', 'content': '这个问题的答案', 'name': 'Assistant'}]\n",
      "[{'role': 'assistant', 'content': '这个问题的答案是', 'name': 'Assistant'}]\n",
      "[{'role': 'assistant', 'content': '这个问题的答案是：“', 'name': 'Assistant'}]\n",
      "[{'role': 'assistant', 'content': '这个问题的答案是：“你的', 'name': 'Assistant'}]\n",
      "[{'role': 'assistant', 'content': '这个问题的答案是：“你的名字', 'name': 'Assistant'}]\n",
      "[{'role': 'assistant', 'content': '这个问题的答案是：“你的名字。”', 'name': 'Assistant'}]\n",
      "[{'role': 'assistant', 'content': '这个问题的答案是：“你的名字。”因为', 'name': 'Assistant'}]\n",
      "[{'role': 'assistant', 'content': '这个问题的答案是：“你的名字。”因为你的', 'name': 'Assistant'}]\n",
      "[{'role': 'assistant', 'content': '这个问题的答案是：“你的名字。”因为你的名字', 'name': 'Assistant'}]\n",
      "[{'role': 'assistant', 'content': '这个问题的答案是：“你的名字。”因为你的名字是', 'name': 'Assistant'}]\n",
      "[{'role': 'assistant', 'content': '这个问题的答案是：“你的名字。”因为你的名字是属于', 'name': 'Assistant'}]\n",
      "[{'role': 'assistant', 'content': '这个问题的答案是：“你的名字。”因为你的名字是属于你的', 'name': 'Assistant'}]\n",
      "[{'role': 'assistant', 'content': '这个问题的答案是：“你的名字。”因为你的名字是属于你的，', 'name': 'Assistant'}]\n",
      "[{'role': 'assistant', 'content': '这个问题的答案是：“你的名字。”因为你的名字是属于你的，但', 'name': 'Assistant'}]\n",
      "[{'role': 'assistant', 'content': '这个问题的答案是：“你的名字。”因为你的名字是属于你的，但其他人', 'name': 'Assistant'}]\n",
      "[{'role': 'assistant', 'content': '这个问题的答案是：“你的名字。”因为你的名字是属于你的，但其他人可以', 'name': 'Assistant'}]\n",
      "[{'role': 'assistant', 'content': '这个问题的答案是：“你的名字。”因为你的名字是属于你的，但其他人可以更多', 'name': 'Assistant'}]\n",
      "[{'role': 'assistant', 'content': '这个问题的答案是：“你的名字。”因为你的名字是属于你的，但其他人可以更多地', 'name': 'Assistant'}]\n",
      "[{'role': 'assistant', 'content': '这个问题的答案是：“你的名字。”因为你的名字是属于你的，但其他人可以更多地使用', 'name': 'Assistant'}]\n",
      "[{'role': 'assistant', 'content': '这个问题的答案是：“你的名字。”因为你的名字是属于你的，但其他人可以更多地使用它', 'name': 'Assistant'}]\n",
      "[{'role': 'assistant', 'content': '这个问题的答案是：“你的名字。”因为你的名字是属于你的，但其他人可以更多地使用它，', 'name': 'Assistant'}]\n",
      "[{'role': 'assistant', 'content': '这个问题的答案是：“你的名字。”因为你的名字是属于你的，但其他人可以更多地使用它，比如', 'name': 'Assistant'}]\n",
      "[{'role': 'assistant', 'content': '这个问题的答案是：“你的名字。”因为你的名字是属于你的，但其他人可以更多地使用它，比如在', 'name': 'Assistant'}]\n",
      "[{'role': 'assistant', 'content': '这个问题的答案是：“你的名字。”因为你的名字是属于你的，但其他人可以更多地使用它，比如在各种', 'name': 'Assistant'}]\n",
      "[{'role': 'assistant', 'content': '这个问题的答案是：“你的名字。”因为你的名字是属于你的，但其他人可以更多地使用它，比如在各种社交', 'name': 'Assistant'}]\n",
      "[{'role': 'assistant', 'content': '这个问题的答案是：“你的名字。”因为你的名字是属于你的，但其他人可以更多地使用它，比如在各种社交场合', 'name': 'Assistant'}]\n",
      "[{'role': 'assistant', 'content': '这个问题的答案是：“你的名字。”因为你的名字是属于你的，但其他人可以更多地使用它，比如在各种社交场合、', 'name': 'Assistant'}]\n",
      "[{'role': 'assistant', 'content': '这个问题的答案是：“你的名字。”因为你的名字是属于你的，但其他人可以更多地使用它，比如在各种社交场合、日常', 'name': 'Assistant'}]\n",
      "[{'role': 'assistant', 'content': '这个问题的答案是：“你的名字。”因为你的名字是属于你的，但其他人可以更多地使用它，比如在各种社交场合、日常交流', 'name': 'Assistant'}]\n",
      "[{'role': 'assistant', 'content': '这个问题的答案是：“你的名字。”因为你的名字是属于你的，但其他人可以更多地使用它，比如在各种社交场合、日常交流中', 'name': 'Assistant'}]\n",
      "[{'role': 'assistant', 'content': '这个问题的答案是：“你的名字。”因为你的名字是属于你的，但其他人可以更多地使用它，比如在各种社交场合、日常交流中，', 'name': 'Assistant'}]\n",
      "[{'role': 'assistant', 'content': '这个问题的答案是：“你的名字。”因为你的名字是属于你的，但其他人可以更多地使用它，比如在各种社交场合、日常交流中，以及其他', 'name': 'Assistant'}]\n",
      "[{'role': 'assistant', 'content': '这个问题的答案是：“你的名字。”因为你的名字是属于你的，但其他人可以更多地使用它，比如在各种社交场合、日常交流中，以及其他人的', 'name': 'Assistant'}]\n",
      "[{'role': 'assistant', 'content': '这个问题的答案是：“你的名字。”因为你的名字是属于你的，但其他人可以更多地使用它，比如在各种社交场合、日常交流中，以及其他人的文件', 'name': 'Assistant'}]\n",
      "[{'role': 'assistant', 'content': '这个问题的答案是：“你的名字。”因为你的名字是属于你的，但其他人可以更多地使用它，比如在各种社交场合、日常交流中，以及其他人的文件、', 'name': 'Assistant'}]\n",
      "[{'role': 'assistant', 'content': '这个问题的答案是：“你的名字。”因为你的名字是属于你的，但其他人可以更多地使用它，比如在各种社交场合、日常交流中，以及其他人的文件、记录', 'name': 'Assistant'}]\n",
      "[{'role': 'assistant', 'content': '这个问题的答案是：“你的名字。”因为你的名字是属于你的，但其他人可以更多地使用它，比如在各种社交场合、日常交流中，以及其他人的文件、记录中', 'name': 'Assistant'}]\n",
      "[{'role': 'assistant', 'content': '这个问题的答案是：“你的名字。”因为你的名字是属于你的，但其他人可以更多地使用它，比如在各种社交场合、日常交流中，以及其他人的文件、记录中。', 'name': 'Assistant'}]\n"
     ]
    }
   ],
   "source": [
    "messages = [{'role': 'user', 'content': [{'text': '什么是属于你的，但其他人比你使用它更多？'}, {'file': '谜语问答游戏.docx'}]}]\n",
    "for rsp in bot.run(messages):\n",
    "    print(rsp)"
   ]
  },
  {
   "cell_type": "code",
   "execution_count": null,
   "id": "10c70d5f-6e02-44b9-9bb1-5707f0427133",
   "metadata": {},
   "outputs": [],
   "source": []
  }
 ],
 "metadata": {
  "kernelspec": {
   "display_name": "Python 3 (ipykernel)",
   "language": "python",
   "name": "python3"
  },
  "language_info": {
   "codemirror_mode": {
    "name": "ipython",
    "version": 3
   },
   "file_extension": ".py",
   "mimetype": "text/x-python",
   "name": "python",
   "nbconvert_exporter": "python",
   "pygments_lexer": "ipython3",
   "version": "3.10.8"
  }
 },
 "nbformat": 4,
 "nbformat_minor": 5
}
