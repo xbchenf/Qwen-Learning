{
 "cells": [
  {
   "cell_type": "code",
   "execution_count": 1,
   "id": "cc896b31-9703-4a31-8cb6-037e1446a2fe",
   "metadata": {},
   "outputs": [
    {
     "name": "stdout",
     "output_type": "stream",
     "text": [
      "ChatCompletionMessage(content='你好！很高兴为你提供帮助。有什么我可以为你做的吗？', role='assistant', function_call=None, tool_calls=None)\n"
     ]
    }
   ],
   "source": [
    "\n",
    "from openai import OpenAI\n",
    "client = OpenAI(\n",
    "    base_url=\"http://localhost:8000/v1\",\n",
    "    api_key=\"sk-xxx\", # 随便填写，只是为了通过接口参数校验\n",
    ")\n",
    "\n",
    "completion = client.chat.completions.create(\n",
    "  model=\"Qwen2-7B-Instruct\",\n",
    "  messages=[\n",
    "    {\"role\": \"user\", \"content\": \"你好\"}\n",
    "  ]\n",
    ")\n",
    "\n",
    "print(completion.choices[0].message)"
   ]
  },
  {
   "cell_type": "code",
   "execution_count": 2,
   "id": "693b002b-ab91-43e0-a203-bf1aaabbd8c0",
   "metadata": {},
   "outputs": [
    {
     "name": "stdout",
     "output_type": "stream",
     "text": [
      "ChatCompletion(id='cmpl-864a391eb4f8444c9836c12a4f2b1c02', choices=[Choice(finish_reason='stop', index=0, logprobs=None, message=ChatCompletionMessage(content='你好！很高兴能与你交流。有什么问题或需要帮助的吗？', role='assistant', function_call=None, tool_calls=None), stop_reason=None)], created=1719570491, model='Qwen2-7B-Instruct', object='chat.completion', system_fingerprint=None, usage=CompletionUsage(completion_tokens=17, prompt_tokens=20, total_tokens=37))\n"
     ]
    }
   ],
   "source": [
    "from openai import OpenAI\n",
    "openai_api_key = \"sk-xxx\" # 随便填写，只是为了通过接口参数校验\n",
    "openai_api_base = \"http://localhost:8000/v1\"\n",
    "\n",
    "client = OpenAI(\n",
    "    api_key=openai_api_key,\n",
    "    base_url=openai_api_base,\n",
    ")\n",
    "\n",
    "chat_outputs = client.chat.completions.create(\n",
    "    model=\"Qwen2-7B-Instruct\",\n",
    "    messages=[\n",
    "        {\"role\": \"system\", \"content\": \"You are a helpful assistant.\"},\n",
    "        {\"role\": \"user\", \"content\": \"你好\"},\n",
    "    ]\n",
    ")\n",
    "print(chat_outputs)"
   ]
  },
  {
   "cell_type": "code",
   "execution_count": 3,
   "id": "4f758a68-0dac-4e1e-851e-c082b3d16d6e",
   "metadata": {},
   "outputs": [
    {
     "data": {
      "text/plain": [
       "ChatCompletion(id='cmpl-9959f6fb51ff42e08e96b34d40db2c94', choices=[Choice(finish_reason='stop', index=0, logprobs=None, message=ChatCompletionMessage(content='AI大模型是指一种大规模训练的深度学习模型，通常具有数百亿甚至万亿个参数，可以处理和理解复杂的数据，并在各种任务中表现出色，如自然语言处理、图像识别、语音识别等。这些模型通常需要大量的计算资源和数据来进行训练，并且在实际应用中需要大量的硬件和软件支持。AI大模型的发展是当前人工智能领域的热点之一，许多公司和研究机构都在积极研发和使用大规模的AI模型。', role='assistant', function_call=None, tool_calls=None), stop_reason=None)], created=1719570582, model='Qwen2-7B-Instruct', object='chat.completion', system_fingerprint=None, usage=CompletionUsage(completion_tokens=98, prompt_tokens=25, total_tokens=123))"
      ]
     },
     "execution_count": 3,
     "metadata": {},
     "output_type": "execute_result"
    }
   ],
   "source": [
    "chat_outputs = client.chat.completions.create(\n",
    "    model=\"Qwen2-7B-Instruct\",\n",
    "    messages=[\n",
    "        {\"role\": \"user\", \"content\": \"请问什么是AI大模型？\"},\n",
    "    ]\n",
    ")\n",
    "\n",
    "chat_outputs"
   ]
  },
  {
   "cell_type": "code",
   "execution_count": null,
   "id": "1eb5cdaa-2a20-4246-ad44-e352e3b64107",
   "metadata": {},
   "outputs": [],
   "source": []
  }
 ],
 "metadata": {
  "kernelspec": {
   "display_name": "Python 3 (ipykernel)",
   "language": "python",
   "name": "python3"
  },
  "language_info": {
   "codemirror_mode": {
    "name": "ipython",
    "version": 3
   },
   "file_extension": ".py",
   "mimetype": "text/x-python",
   "name": "python",
   "nbconvert_exporter": "python",
   "pygments_lexer": "ipython3",
   "version": "3.10.8"
  }
 },
 "nbformat": 4,
 "nbformat_minor": 5
}
