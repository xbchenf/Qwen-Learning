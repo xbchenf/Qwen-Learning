{
 "cells": [
  {
   "cell_type": "markdown",
   "id": "28952a77-5ca1-4e82-b7c3-28107e54687c",
   "metadata": {},
   "source": [
    "## 导入依赖库"
   ]
  },
  {
   "cell_type": "code",
   "execution_count": 86,
   "id": "d5571c81-b086-41f7-bf2e-63ad6defd6d0",
   "metadata": {},
   "outputs": [],
   "source": [
    "# 导入Python标准库中的json模块，用于处理JSON数据\n",
    "import json\n",
    "# 导入Python标准库中的os模块，用于操作系统功能，如环境变量\n",
    "import os\n",
    "\n",
    "# 从qwen_agent.llm模块导入get_chat_model函数\n",
    "from qwen_agent.llm import get_chat_model"
   ]
  },
  {
   "cell_type": "markdown",
   "id": "0492affd-f044-4011-931e-6c5fef7c0b75",
   "metadata": {},
   "source": [
    "## 模拟一个外部工具函数"
   ]
  },
  {
   "cell_type": "code",
   "execution_count": 87,
   "id": "519bd3b2-56e1-4189-a934-beb1f038ba1e",
   "metadata": {},
   "outputs": [],
   "source": [
    "# 示例虚拟函数，硬编码为返回相同的天气\n",
    "# 在生产环境中，这可以是您的后端API或外部API\n",
    "def get_current_weather(location, unit='华氏度'):\n",
    "    \"\"\"获取给定地点的当前天气\"\"\"\n",
    "    if '东京' in location.lower():\n",
    "        return json.dumps({'location': '东京', 'temperature': '10', 'unit': '摄氏度'})\n",
    "    elif '旧金山' in location.lower():\n",
    "        return json.dumps({'location': '旧金山', 'temperature': '72', 'unit': '华氏度'})\n",
    "    elif '巴黎' in location.lower():\n",
    "        return json.dumps({'location': '巴黎', 'temperature': '22', 'unit': '摄氏度'})\n",
    "    else:\n",
    "        return json.dumps({'location': location, 'temperature': '未知'})"
   ]
  },
  {
   "cell_type": "markdown",
   "id": "d10fd425-4999-4382-af02-2464c72f2130",
   "metadata": {},
   "source": [
    "## 测试Qwen2-7B-Instruct 的OpenAI风格的API\n",
    "备注：先采用vLLM进行Qwen2-7B模型部署，启用OpenAI风格的API接口，具体参考：《部署高效AI模型：使用vLLM进行Qwen2-7B模型推理》"
   ]
  },
  {
   "cell_type": "code",
   "execution_count": 88,
   "id": "7adfec05-8358-4e51-90c7-3432c25cba85",
   "metadata": {},
   "outputs": [
    {
     "name": "stdout",
     "output_type": "stream",
     "text": [
      "ChatCompletion(id='cmpl-2e9883ed58154fa5bc6ff63886aea585', choices=[Choice(finish_reason='stop', index=0, logprobs=None, message=ChatCompletionMessage(content='你好！很高兴能帮助你。有什么问题或需要我提供的信息吗？', role='assistant', function_call=None, tool_calls=None), stop_reason=None)], created=1719843868, model='Qwen2-7B-Instruct', object='chat.completion', system_fingerprint=None, usage=CompletionUsage(completion_tokens=17, prompt_tokens=19, total_tokens=36))\n"
     ]
    }
   ],
   "source": [
    "from openai import OpenAI\n",
    "openai_api_key = \"sk-xxx\" # 随便填写，只是为了通过接口参数校验\n",
    "openai_api_base = \"http://localhost:8000/v1\"\n",
    "\n",
    "client = OpenAI(\n",
    "    api_key=openai_api_key,\n",
    "    base_url=openai_api_base,\n",
    ")\n",
    "\n",
    "chat_outputs = client.chat.completions.create(\n",
    "    model=\"Qwen2-7B-Instruct\",\n",
    "    messages=[\n",
    "        {\"role\": \"system\", \"content\": \"你是一个智能AI助手\"},\n",
    "        {\"role\": \"user\", \"content\": \"你好\"},\n",
    "    ]\n",
    ")\n",
    "print(chat_outputs)"
   ]
  },
  {
   "cell_type": "markdown",
   "id": "563512a1-72cf-44c2-939f-d391736128fb",
   "metadata": {},
   "source": [
    "## 定义LLM"
   ]
  },
  {
   "cell_type": "code",
   "execution_count": 89,
   "id": "a05588f4-2b7e-4bea-aa23-ec72fbc3f562",
   "metadata": {},
   "outputs": [],
   "source": [
    "llm = get_chat_model({\n",
    "     'model': 'Qwen2-7B-Instruct',\n",
    "     'model_server': 'http://localhost:8000/v1',  # api_base\n",
    "     'api_key': 'EMPTY',\n",
    "    # 使用 DashScope 提供的模型服务：\n",
    "    #'model': 'qwen1.5-14b-chat',\n",
    "    #'model_server': 'dashscope',\n",
    "    #'api_key': os.getenv('DASHSCOPE_API_KEY'),\n",
    "\n",
    "    # 使用 DashScope 提供的与 OpenAI 兼容的模型服务：\n",
    "    # 'model': 'qwen1.5-14b-chat',\n",
    "    # 'model_server': 'https://dashscope.aliyuncs.com/compatible-mode/v1', \n",
    "    # 'api_key': os.getenv('DASHSCOPE_API_KEY'),\n",
    "\n",
    "    # 使用 Together.AI 提供的模型服务：\n",
    "    # 'model': 'Qwen/Qwen1.5-14B-Chat',\n",
    "    # 'model_server': 'https://api.together.xyz',   # api_base\n",
    "    # 'api_key': os.getenv('TOGETHER_API_KEY'),\n",
    "})"
   ]
  },
  {
   "cell_type": "markdown",
   "id": "db2b05eb-d0cb-440e-b5da-e8b298a46523",
   "metadata": {},
   "source": [
    "## 定义工具函数信息"
   ]
  },
  {
   "cell_type": "code",
   "execution_count": 90,
   "id": "09f13d9e-6c98-4a55-8fce-680cd98fc9fa",
   "metadata": {},
   "outputs": [],
   "source": [
    "functions = [{\n",
    "        'name': 'get_current_weather',\n",
    "        'description': '获取给定位置的当前天气',\n",
    "        'parameters': {\n",
    "            'type': 'object',\n",
    "            'properties': {\n",
    "                'location': {\n",
    "                    'type': 'string',\n",
    "                    'description': '城市和州，例如加利福尼亚州旧金东京山',\n",
    "                },\n",
    "                'unit': {\n",
    "                    'type': 'string',\n",
    "                    'enum': ['摄氏度', '华氏度']\n",
    "                },\n",
    "            },\n",
    "            'required': ['location'],\n",
    "        },\n",
    "    }]"
   ]
  },
  {
   "cell_type": "markdown",
   "id": "153b15c7-42df-466c-9b5f-3a4fa590fff5",
   "metadata": {},
   "source": [
    "## 定义messages消息"
   ]
  },
  {
   "cell_type": "code",
   "execution_count": 91,
   "id": "e3679019-de22-479a-b588-c4629129e3c7",
   "metadata": {},
   "outputs": [],
   "source": [
    "messages = [{'role': 'user', 'content': \"东京的天气怎么样？\"}]"
   ]
  },
  {
   "cell_type": "markdown",
   "id": "a606725d-a360-445a-b4ab-93ca09c3f4da",
   "metadata": {},
   "source": [
    "## 第一次请求大模型（查找工具函数）"
   ]
  },
  {
   "cell_type": "code",
   "execution_count": 92,
   "id": "008b2560-d66d-49f8-9206-de21c3b16e16",
   "metadata": {},
   "outputs": [
    {
     "name": "stdout",
     "output_type": "stream",
     "text": [
      "# 助手回复 1：\n",
      "[{'role': 'assistant', 'content': '', 'function_call': {'name': 'get', 'arguments': ''}}]\n",
      "[{'role': 'assistant', 'content': '', 'function_call': {'name': 'get_current', 'arguments': ''}}]\n",
      "[{'role': 'assistant', 'content': '', 'function_call': {'name': 'get_current_weather', 'arguments': ''}}]\n",
      "[{'role': 'assistant', 'content': '', 'function_call': {'name': 'get_current_weather', 'arguments': ''}}]\n",
      "[{'role': 'assistant', 'content': '', 'function_call': {'name': 'get_current_weather', 'arguments': ''}}]\n",
      "[{'role': 'assistant', 'content': '', 'function_call': {'name': 'get_current_weather', 'arguments': ''}}]\n",
      "[{'role': 'assistant', 'content': '', 'function_call': {'name': 'get_current_weather', 'arguments': ''}}]\n",
      "[{'role': 'assistant', 'content': '', 'function_call': {'name': 'get_current_weather', 'arguments': ''}}]\n",
      "[{'role': 'assistant', 'content': '', 'function_call': {'name': 'get_current_weather', 'arguments': '{\"'}}]\n",
      "[{'role': 'assistant', 'content': '', 'function_call': {'name': 'get_current_weather', 'arguments': '{\"location'}}]\n",
      "[{'role': 'assistant', 'content': '', 'function_call': {'name': 'get_current_weather', 'arguments': '{\"location\":'}}]\n",
      "[{'role': 'assistant', 'content': '', 'function_call': {'name': 'get_current_weather', 'arguments': '{\"location\": \"'}}]\n",
      "[{'role': 'assistant', 'content': '', 'function_call': {'name': 'get_current_weather', 'arguments': '{\"location\": \"东京'}}]\n",
      "[{'role': 'assistant', 'content': '', 'function_call': {'name': 'get_current_weather', 'arguments': '{\"location\": \"东京\",'}}]\n",
      "[{'role': 'assistant', 'content': '', 'function_call': {'name': 'get_current_weather', 'arguments': '{\"location\": \"东京\", \"'}}]\n",
      "[{'role': 'assistant', 'content': '', 'function_call': {'name': 'get_current_weather', 'arguments': '{\"location\": \"东京\", \"unit'}}]\n",
      "[{'role': 'assistant', 'content': '', 'function_call': {'name': 'get_current_weather', 'arguments': '{\"location\": \"东京\", \"unit\":'}}]\n",
      "[{'role': 'assistant', 'content': '', 'function_call': {'name': 'get_current_weather', 'arguments': '{\"location\": \"东京\", \"unit\": \"'}}]\n",
      "[{'role': 'assistant', 'content': '', 'function_call': {'name': 'get_current_weather', 'arguments': '{\"location\": \"东京\", \"unit\": \"摄'}}]\n",
      "[{'role': 'assistant', 'content': '', 'function_call': {'name': 'get_current_weather', 'arguments': '{\"location\": \"东京\", \"unit\": \"摄氏'}}]\n",
      "[{'role': 'assistant', 'content': '', 'function_call': {'name': 'get_current_weather', 'arguments': '{\"location\": \"东京\", \"unit\": \"摄氏度'}}]\n",
      "[{'role': 'assistant', 'content': '', 'function_call': {'name': 'get_current_weather', 'arguments': '{\"location\": \"东京\", \"unit\": \"摄氏度\"}'}}]\n",
      "[{'role': 'assistant', 'content': '', 'function_call': {'name': 'get_current_weather', 'arguments': '{\"location\": \"东京\", \"unit\": \"摄氏度\"}'}}]\n",
      "[{'role': 'assistant', 'content': '', 'function_call': {'name': 'get_current_weather', 'arguments': '{\"location\": \"东京\", \"unit\": \"摄氏度\"}'}}]\n"
     ]
    }
   ],
   "source": [
    "print('# 助手回复 1：')\n",
    "responses = []\n",
    "for responses  in llm.chat(\n",
    "        messages=messages,\n",
    "        functions=functions,\n",
    "        stream=True,#True\n",
    "        # 注意：extra_generate_cfg 是可选的\n",
    "        # extra_generate_cfg=dict(\n",
    "        #     # 注意：如果 function_choice='auto'，让模型决定是否调用函数\n",
    "        #     # function_choice='auto',  # 如果没有设置 function_choice，默认是 'auto'\n",
    "        #     # 注意：设置 function_choice='get_current_weather' 强制模型调用此函数\n",
    "        #     function_choice='get_current_weather',\n",
    "        # ),\n",
    "):\n",
    "    print(responses)"
   ]
  },
  {
   "cell_type": "markdown",
   "id": "d313c9a0-990c-4308-996f-2ea2d672575d",
   "metadata": {},
   "source": [
    "## 将响应内容放入消息中备用"
   ]
  },
  {
   "cell_type": "code",
   "execution_count": 93,
   "id": "1e4d2c75-d504-4c1b-8683-8a1fcef73d5f",
   "metadata": {},
   "outputs": [],
   "source": [
    "messages.extend(responses)  # 用助手的回复扩展对话"
   ]
  },
  {
   "cell_type": "code",
   "execution_count": 94,
   "id": "8091e0df-9948-42b5-b3bf-49a01d71a1af",
   "metadata": {},
   "outputs": [
    {
     "data": {
      "text/plain": [
       "[{'role': 'user', 'content': '东京的天气怎么样？'},\n",
       " {'role': 'assistant',\n",
       "  'content': '',\n",
       "  'function_call': {'name': 'get_current_weather',\n",
       "   'arguments': '{\"location\": \"东京\", \"unit\": \"摄氏度\"}'}}]"
      ]
     },
     "execution_count": 94,
     "metadata": {},
     "output_type": "execute_result"
    }
   ],
   "source": [
    "messages"
   ]
  },
  {
   "cell_type": "markdown",
   "id": "0d6141bb-eeb1-465f-85e4-e85a3b21d9df",
   "metadata": {},
   "source": [
    "## 第二次大模型调用\n",
    "1、取出工具函数进行手工调用 2、将响应结果给到大模型进行整理增强"
   ]
  },
  {
   "cell_type": "code",
   "execution_count": 95,
   "id": "ec154c7f-4b9c-4b6b-9b2e-2cd595b706a7",
   "metadata": {},
   "outputs": [
    {
     "name": "stdout",
     "output_type": "stream",
     "text": [
      "# 函数响应:\n",
      "{\"location\": \"\\u4e1c\\u4eac\", \"temperature\": \"10\", \"unit\": \"\\u6444\\u6c0f\\u5ea6\"}\n",
      "# 助手回复 2:\n",
      "[{'role': 'assistant', 'content': '东京'}]\n",
      "[{'role': 'assistant', 'content': '东京的'}]\n",
      "[{'role': 'assistant', 'content': '东京的当前'}]\n",
      "[{'role': 'assistant', 'content': '东京的当前气温'}]\n",
      "[{'role': 'assistant', 'content': '东京的当前气温是'}]\n",
      "[{'role': 'assistant', 'content': '东京的当前气温是1'}]\n",
      "[{'role': 'assistant', 'content': '东京的当前气温是10'}]\n",
      "[{'role': 'assistant', 'content': '东京的当前气温是10摄'}]\n",
      "[{'role': 'assistant', 'content': '东京的当前气温是10摄氏'}]\n",
      "[{'role': 'assistant', 'content': '东京的当前气温是10摄氏度'}]\n",
      "[{'role': 'assistant', 'content': '东京的当前气温是10摄氏度。'}]\n"
     ]
    }
   ],
   "source": [
    "# 第 2 步：检查模型是否想要调用一个函数\n",
    "last_response = messages[-1]\n",
    "# 检查变量 last_response 是否包含键 function_call 并且其值不为 None\n",
    "if last_response.get('function_call', None):\n",
    "\n",
    "    # 第 3 步：调用函数\n",
    "    # 注意：JSON 响应可能不是有效的；确保要处理错误\n",
    "    available_functions = {\n",
    "        'get_current_weather': get_current_weather,\n",
    "    }  # 此示例中只有一个函数，但您可以有多个\n",
    "    function_name = last_response['function_call']['name']\n",
    "    function_to_call = available_functions[function_name]\n",
    "    function_args = json.loads(last_response['function_call']['arguments'])\n",
    "    function_response = function_to_call(\n",
    "        location=function_args.get('location'),\n",
    "        unit=function_args.get('unit'),\n",
    "    )\n",
    "    print('# 函数响应:')\n",
    "    print(function_response)\n",
    "\n",
    "    # 第 4 步：将每个函数调用和函数响应的信息发送给模型\n",
    "    messages.append({\n",
    "        'role': 'function',\n",
    "        'name': function_name,\n",
    "        'content': function_response,\n",
    "    })  # 用函数响应扩展对话\n",
    "\n",
    "    print('# 助手回复 2:')\n",
    "    for response in llm.chat(\n",
    "            messages=messages,\n",
    "            functions=functions,\n",
    "            stream=True,#True\n",
    "    ):  # 在模型能够看到函数响应的情况下获取模型的新回复\n",
    "        print(response)"
   ]
  },
  {
   "cell_type": "code",
   "execution_count": 96,
   "id": "bc7a7364-8126-43d3-8f22-260b47a73e46",
   "metadata": {},
   "outputs": [
    {
     "data": {
      "text/plain": [
       "{'role': 'assistant', 'content': '东京的当前气温是10摄氏度。'}"
      ]
     },
     "execution_count": 96,
     "metadata": {},
     "output_type": "execute_result"
    }
   ],
   "source": [
    "response[-1]"
   ]
  },
  {
   "cell_type": "code",
   "execution_count": null,
   "id": "9d708820-68ee-45d5-bbeb-f90fbd67cf4f",
   "metadata": {},
   "outputs": [],
   "source": []
  },
  {
   "cell_type": "code",
   "execution_count": null,
   "id": "34fec955-9690-4fad-a65a-867be43ac9e6",
   "metadata": {},
   "outputs": [],
   "source": []
  },
  {
   "cell_type": "code",
   "execution_count": null,
   "id": "749cf42d-da1e-4657-bcf5-66f8fe604243",
   "metadata": {},
   "outputs": [],
   "source": []
  }
 ],
 "metadata": {
  "kernelspec": {
   "display_name": "Python 3 (ipykernel)",
   "language": "python",
   "name": "python3"
  },
  "language_info": {
   "codemirror_mode": {
    "name": "ipython",
    "version": 3
   },
   "file_extension": ".py",
   "mimetype": "text/x-python",
   "name": "python",
   "nbconvert_exporter": "python",
   "pygments_lexer": "ipython3",
   "version": "3.10.8"
  }
 },
 "nbformat": 4,
 "nbformat_minor": 5
}
