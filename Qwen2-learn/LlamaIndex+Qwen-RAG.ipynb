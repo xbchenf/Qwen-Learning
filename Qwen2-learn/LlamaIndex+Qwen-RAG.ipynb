{
 "cells": [
  {
   "cell_type": "markdown",
   "id": "c4a733c9-219e-41e0-86e6-2cea3fd8f27b",
   "metadata": {},
   "source": [
    "# 下载嵌入模型"
   ]
  },
  {
   "cell_type": "code",
   "execution_count": 1,
   "id": "978c73ec-c639-4c33-ab0f-273ae191b736",
   "metadata": {},
   "outputs": [
    {
     "name": "stderr",
     "output_type": "stream",
     "text": [
      "2024-07-02 15:30:51,776 - modelscope - INFO - PyTorch version 2.1.2+cu121 Found.\n",
      "2024-07-02 15:30:51,781 - modelscope - INFO - Loading ast index from /root/.cache/modelscope/ast_indexer\n",
      "2024-07-02 15:30:51,924 - modelscope - INFO - Updating the files for the changes of local files, first time updating will take longer time! Please wait till updating done!\n",
      "2024-07-02 15:30:51,926 - modelscope - INFO - AST-Scanning the path \"/root/miniconda3/lib/python3.10/site-packages/modelscope\" with the following sub folders ['models', 'metrics', 'pipelines', 'preprocessors', 'trainers', 'msdatasets', 'exporters']\n",
      "2024-07-02 15:30:51,926 - modelscope - INFO - Scanning done! A number of 0 components indexed or updated! Time consumed 0.0006194114685058594s\n",
      "2024-07-02 15:30:51,961 - modelscope - INFO - Loading done! Current index file version is 1.11.0, with md5 53b373ffec968389caf899c2f4d6ff00 and a total number of 953 components indexed\n",
      "Downloading: 100%|██████████| 190/190 [00:00<00:00, 1.05MB/s]\n",
      "Downloading: 100%|██████████| 998/998 [00:00<00:00, 5.03MB/s]\n",
      "Downloading: 100%|██████████| 124/124 [00:00<00:00, 741kB/s]\n",
      "Downloading: 100%|██████████| 47.0/47.0 [00:00<00:00, 248kB/s]\n",
      "Downloading: 100%|██████████| 349/349 [00:00<00:00, 1.91MB/s]\n",
      "Downloading: 100%|██████████| 390M/390M [07:38<00:00, 892kB/s] \n",
      "Downloading: 100%|██████████| 27.5k/27.5k [00:00<00:00, 1.03MB/s]\n",
      "Downloading: 100%|██████████| 52.0/52.0 [00:00<00:00, 291kB/s]\n",
      "Downloading: 100%|██████████| 125/125 [00:00<00:00, 700kB/s]\n",
      "Downloading: 100%|██████████| 429k/429k [00:00<00:00, 752kB/s]\n",
      "Downloading: 100%|██████████| 366/366 [00:00<00:00, 2.01MB/s]\n",
      "Downloading: 100%|██████████| 107k/107k [00:00<00:00, 1.13MB/s]\n"
     ]
    }
   ],
   "source": [
    "import torch\n",
    "from modelscope import snapshot_download\n",
    "\n",
    "# snapshot_download函数用于下载模型\n",
    "model_dir = snapshot_download(\n",
    "    'AI-ModelScope/bge-base-zh-v1.5',  # 模型名称\n",
    "    cache_dir='/root/autodl-tmp',  # 缓存目录\n",
    "    revision='master'  # 版本号\n",
    ")"
   ]
  },
  {
   "cell_type": "code",
   "execution_count": null,
   "id": "2eb9d456-8294-46b2-aaab-d42dd4fe4a61",
   "metadata": {},
   "outputs": [],
   "source": [
    "# 导入依赖包"
   ]
  },
  {
   "cell_type": "code",
   "execution_count": null,
   "id": "09b11219-28d5-416a-b735-532cdcc9d6d0",
   "metadata": {},
   "outputs": [],
   "source": [
    "!pip install llama-index-core\n",
    "!pip install llama-index-llms-openai\n",
    "!pip install llama-index-llms-replicate\n",
    "!pip install llama-index-embeddings-huggingface"
   ]
  },
  {
   "cell_type": "code",
   "execution_count": 1,
   "id": "7a782aa6-aee1-4f1d-9a2b-3b3ac9c78a57",
   "metadata": {},
   "outputs": [
    {
     "name": "stderr",
     "output_type": "stream",
     "text": [
      "/root/miniconda3/lib/python3.10/site-packages/pydantic/_internal/_fields.py:160: UserWarning: Field \"model_id\" has conflict with protected namespace \"model_\".\n",
      "\n",
      "You may be able to resolve this warning by setting `model_config['protected_namespaces'] = ()`.\n",
      "  warnings.warn(\n"
     ]
    }
   ],
   "source": [
    "import torch\n",
    "from llama_index.core import Settings\n",
    "from llama_index.core.node_parser import SentenceSplitter\n",
    "from llama_index.llms.huggingface import HuggingFaceLLM\n",
    "from llama_index.embeddings.huggingface import HuggingFaceEmbedding"
   ]
  },
  {
   "cell_type": "markdown",
   "id": "1948ac48-cec0-4869-9b86-1f26f1fceef4",
   "metadata": {},
   "source": [
    "# 设置提示词模版"
   ]
  },
  {
   "cell_type": "code",
   "execution_count": 2,
   "id": "a0909569-b9e6-4718-af08-ea28bc9c47b4",
   "metadata": {},
   "outputs": [],
   "source": [
    "# Set prompt template for generation (optional)\n",
    "from llama_index.core import PromptTemplate\n",
    "\n",
    "def completion_to_prompt(completion):\n",
    "   return f\"<|im_start|>system\\n<|im_end|>\\n<|im_start|>user\\n{completion}<|im_end|>\\n<|im_start|>assistant\\n\"\n",
    "\n",
    "def messages_to_prompt(messages):\n",
    "    prompt = \"\"\n",
    "    for message in messages:\n",
    "        if message.role == \"system\":\n",
    "            prompt += f\"<|im_start|>system\\n{message.content}<|im_end|>\\n\"\n",
    "        elif message.role == \"user\":\n",
    "            prompt += f\"<|im_start|>user\\n{message.content}<|im_end|>\\n\"\n",
    "        elif message.role == \"assistant\":\n",
    "            prompt += f\"<|im_start|>assistant\\n{message.content}<|im_end|>\\n\"\n",
    "\n",
    "    if not prompt.startswith(\"<|im_start|>system\"):\n",
    "        prompt = \"<|im_start|>system\\n\" + prompt\n",
    "\n",
    "    prompt = prompt + \"<|im_start|>assistant\\n\"\n",
    "\n",
    "    return prompt"
   ]
  },
  {
   "cell_type": "code",
   "execution_count": 3,
   "id": "5d317fb8-fd9c-4edc-8508-39dadee03298",
   "metadata": {},
   "outputs": [],
   "source": [
    "# 设置语言模型"
   ]
  },
  {
   "cell_type": "code",
   "execution_count": 16,
   "id": "f0c00b67-86a0-430a-8e07-b6d888f0dffc",
   "metadata": {},
   "outputs": [
    {
     "name": "stdout",
     "output_type": "stream",
     "text": [
      "Looking in indexes: https://pypi.tuna.tsinghua.edu.cn/simple\n",
      "Requirement already satisfied: accelerate in /root/miniconda3/lib/python3.10/site-packages (0.31.0)\n",
      "Requirement already satisfied: numpy>=1.17 in /root/miniconda3/lib/python3.10/site-packages (from accelerate) (1.26.4)\n",
      "Requirement already satisfied: packaging>=20.0 in /root/miniconda3/lib/python3.10/site-packages (from accelerate) (23.2)\n",
      "Requirement already satisfied: psutil in /root/miniconda3/lib/python3.10/site-packages (from accelerate) (5.9.7)\n",
      "Requirement already satisfied: pyyaml in /root/miniconda3/lib/python3.10/site-packages (from accelerate) (6.0.1)\n",
      "Requirement already satisfied: torch>=1.10.0 in /root/miniconda3/lib/python3.10/site-packages (from accelerate) (2.1.2+cu121)\n",
      "Requirement already satisfied: huggingface-hub in /root/miniconda3/lib/python3.10/site-packages (from accelerate) (0.23.4)\n",
      "Requirement already satisfied: safetensors>=0.3.1 in /root/miniconda3/lib/python3.10/site-packages (from accelerate) (0.4.3)\n",
      "Requirement already satisfied: filelock in /root/miniconda3/lib/python3.10/site-packages (from torch>=1.10.0->accelerate) (3.13.1)\n",
      "Requirement already satisfied: typing-extensions in /root/miniconda3/lib/python3.10/site-packages (from torch>=1.10.0->accelerate) (4.9.0)\n",
      "Requirement already satisfied: sympy in /root/miniconda3/lib/python3.10/site-packages (from torch>=1.10.0->accelerate) (1.12)\n",
      "Requirement already satisfied: networkx in /root/miniconda3/lib/python3.10/site-packages (from torch>=1.10.0->accelerate) (3.2.1)\n",
      "Requirement already satisfied: jinja2 in /root/miniconda3/lib/python3.10/site-packages (from torch>=1.10.0->accelerate) (3.1.2)\n",
      "Requirement already satisfied: fsspec in /root/miniconda3/lib/python3.10/site-packages (from torch>=1.10.0->accelerate) (2023.12.2)\n",
      "Requirement already satisfied: triton==2.1.0 in /root/miniconda3/lib/python3.10/site-packages (from torch>=1.10.0->accelerate) (2.1.0)\n",
      "Requirement already satisfied: requests in /root/miniconda3/lib/python3.10/site-packages (from huggingface-hub->accelerate) (2.32.3)\n",
      "Requirement already satisfied: tqdm>=4.42.1 in /root/miniconda3/lib/python3.10/site-packages (from huggingface-hub->accelerate) (4.66.3)\n",
      "Requirement already satisfied: MarkupSafe>=2.0 in /root/miniconda3/lib/python3.10/site-packages (from jinja2->torch>=1.10.0->accelerate) (2.1.3)\n",
      "Requirement already satisfied: charset-normalizer<4,>=2 in /root/miniconda3/lib/python3.10/site-packages (from requests->huggingface-hub->accelerate) (2.0.4)\n",
      "Requirement already satisfied: idna<4,>=2.5 in /root/miniconda3/lib/python3.10/site-packages (from requests->huggingface-hub->accelerate) (3.4)\n",
      "Requirement already satisfied: urllib3<3,>=1.21.1 in /root/miniconda3/lib/python3.10/site-packages (from requests->huggingface-hub->accelerate) (2.2.2)\n",
      "Requirement already satisfied: certifi>=2017.4.17 in /root/miniconda3/lib/python3.10/site-packages (from requests->huggingface-hub->accelerate) (2022.12.7)\n",
      "Requirement already satisfied: mpmath>=0.19 in /root/miniconda3/lib/python3.10/site-packages (from sympy->torch>=1.10.0->accelerate) (1.3.0)\n",
      "\u001b[33mWARNING: Running pip as the 'root' user can result in broken permissions and conflicting behaviour with the system package manager, possibly rendering your system unusable.It is recommended to use a virtual environment instead: https://pip.pypa.io/warnings/venv. Use the --root-user-action option if you know what you are doing and want to suppress this warning.\u001b[0m\u001b[33m\n",
      "\u001b[0m"
     ]
    }
   ],
   "source": [
    "!pip install accelerate"
   ]
  },
  {
   "cell_type": "code",
   "execution_count": 4,
   "id": "6fd78220-78c9-4436-b8f7-ba9eeecd3045",
   "metadata": {},
   "outputs": [
    {
     "data": {
      "application/vnd.jupyter.widget-view+json": {
       "model_id": "384cbc1cd2454c9ea1037a3a537df73c",
       "version_major": 2,
       "version_minor": 0
      },
      "text/plain": [
       "Loading checkpoint shards:   0%|          | 0/4 [00:00<?, ?it/s]"
      ]
     },
     "metadata": {},
     "output_type": "display_data"
    },
    {
     "name": "stderr",
     "output_type": "stream",
     "text": [
      "WARNING:root:Some parameters are on the meta device device because they were offloaded to the cpu.\n",
      "Special tokens have been added in the vocabulary, make sure the associated word embeddings are fine-tuned or trained.\n"
     ]
    }
   ],
   "source": [
    "\n",
    "# Set Qwen2 as the language model and set generation config\n",
    "Settings.llm = HuggingFaceLLM(\n",
    "    model_name=\"/root/autodl-tmp/qwen/Qwen2-7B-Instruct\",\n",
    "    tokenizer_name=\"/root/autodl-tmp/qwen/Qwen2-7B-Instruct\",\n",
    "    #model_name=\"Qwen/Qwen2-7B-Instruct\",\n",
    "    #tokenizer_name=\"Qwen/Qwen2-7B-Instruct\",\n",
    "    context_window=30000,\n",
    "    max_new_tokens=2000,\n",
    "    generate_kwargs={\"temperature\": 0.7, \"top_k\": 50, \"top_p\": 0.95},\n",
    "    messages_to_prompt=messages_to_prompt,\n",
    "    completion_to_prompt=completion_to_prompt,\n",
    "    device_map=\"auto\",\n",
    ")"
   ]
  },
  {
   "cell_type": "markdown",
   "id": "bead2626-4347-442c-bbde-3b57d3578f5e",
   "metadata": {},
   "source": [
    "# 加载嵌入模型"
   ]
  },
  {
   "cell_type": "code",
   "execution_count": 5,
   "id": "2e886345-f9b5-4033-abc9-4f2c7de0d904",
   "metadata": {},
   "outputs": [
    {
     "name": "stderr",
     "output_type": "stream",
     "text": [
      "/root/miniconda3/lib/python3.10/site-packages/torch/_utils.py:831: UserWarning: TypedStorage is deprecated. It will be removed in the future and UntypedStorage will be the only storage class. This should only matter to you if you are using storages directly.  To access UntypedStorage directly, use tensor.untyped_storage() instead of tensor.storage()\n",
      "  return self.fget.__get__(instance, owner)()\n"
     ]
    }
   ],
   "source": [
    "# Set embedding model\n",
    "Settings.embed_model = HuggingFaceEmbedding(\n",
    "    model_name = \"/root/autodl-tmp/AI-ModelScope/bge-base-zh-v1.5\"\n",
    ")"
   ]
  },
  {
   "cell_type": "code",
   "execution_count": 6,
   "id": "0da7e531-e25a-4fd4-8c12-cebad1a8b700",
   "metadata": {},
   "outputs": [],
   "source": [
    "Settings.transformations = [SentenceSplitter(chunk_size=1024)]"
   ]
  },
  {
   "cell_type": "code",
   "execution_count": 10,
   "id": "0ab480fc-123f-46cb-98d3-3db3ef7cb3cd",
   "metadata": {},
   "outputs": [],
   "source": [
    "from llama_index.core import VectorStoreIndex, SimpleDirectoryReader\n",
    "documents = SimpleDirectoryReader(\"./document\").load_data()\n",
    "index = VectorStoreIndex.from_documents(\n",
    "    documents,\n",
    "    embed_model=Settings.embed_model,\n",
    "    transformations=Settings.transformations\n",
    ")\n"
   ]
  },
  {
   "cell_type": "code",
   "execution_count": 13,
   "id": "c85583ad-ee90-466d-8ac0-0c89e87e4c01",
   "metadata": {},
   "outputs": [
    {
     "name": "stdout",
     "output_type": "stream",
     "text": [
      "根据给定的上下文信息，无法直接回答“你是谁？”这个问题，因为它要求提供身份或自我介绍的信息，而这在提供的内容中并未提及。所以，基于给定的信息集，这个问题的答案不能被确定。\n"
     ]
    }
   ],
   "source": [
    "query_engine = index.as_query_engine()\n",
    "your_query = \"你是谁？\"\n",
    "print(query_engine.query(your_query).response)"
   ]
  },
  {
   "cell_type": "code",
   "execution_count": 14,
   "id": "3cc14604-b486-4155-a20c-405c53ad395e",
   "metadata": {},
   "outputs": [
    {
     "name": "stdout",
     "output_type": "stream",
     "text": [
      "你的名字。\n"
     ]
    }
   ],
   "source": [
    "query_engine = index.as_query_engine()\n",
    "your_query = \"什么是属于你的，但其他人比你使用它更多？ \"\n",
    "print(query_engine.query(your_query).response)"
   ]
  },
  {
   "cell_type": "code",
   "execution_count": 15,
   "id": "b9126342-d070-49d3-b314-5980b4be787a",
   "metadata": {},
   "outputs": [
    {
     "name": "stdout",
     "output_type": "stream",
     "text": [
      "在美国华盛顿。\n"
     ]
    }
   ],
   "source": [
    "query_engine = index.as_query_engine()\n",
    "your_query = \"路的左边有一座绿房子，路的右边有一座红房子。 那么，白宫在哪里？ \"\n",
    "print(query_engine.query(your_query).response)"
   ]
  },
  {
   "cell_type": "code",
   "execution_count": null,
   "id": "3c0e994c-54f7-4304-a221-d5e7e66e43cd",
   "metadata": {},
   "outputs": [],
   "source": [
    "#，数据存储在内存中。 要保留到磁盘（在）：./storage"
   ]
  },
  {
   "cell_type": "code",
   "execution_count": 16,
   "id": "03402b55-a8ff-4aa7-b0bb-981732bd0230",
   "metadata": {},
   "outputs": [],
   "source": [
    "index.storage_context.persist()"
   ]
  },
  {
   "cell_type": "code",
   "execution_count": 17,
   "id": "994b686e-8a2b-4f58-90ec-7bb9f63b07c4",
   "metadata": {},
   "outputs": [],
   "source": [
    "\n",
    "#要从磁盘重新加载：\n",
    "\n",
    "from llama_index.core import StorageContext, load_index_from_storage\n",
    "\n",
    "# rebuild storage context\n",
    "storage_context = StorageContext.from_defaults(persist_dir=\"./storage\")\n",
    "# load index\n",
    "index = load_index_from_storage(storage_context)"
   ]
  },
  {
   "cell_type": "code",
   "execution_count": 18,
   "id": "27497498-2dee-4725-8c5a-3d1334659cd7",
   "metadata": {},
   "outputs": [
    {
     "name": "stdout",
     "output_type": "stream",
     "text": [
      "一朵云。\n"
     ]
    }
   ],
   "source": [
    "query_engine = index.as_query_engine()\n",
    "your_query = \"没有翅膀我也能飞翔。 没有眼睛我也能哭。 每当我走的时候，黑暗就跟着我。 我是什么？  \"\n",
    "print(query_engine.query(your_query).response)"
   ]
  },
  {
   "cell_type": "code",
   "execution_count": null,
   "id": "1ecdaad2-020f-4ee3-89b4-873dd6930592",
   "metadata": {},
   "outputs": [],
   "source": []
  },
  {
   "cell_type": "code",
   "execution_count": null,
   "id": "a085888f-5a62-4667-b244-9eec9e2d5c9d",
   "metadata": {},
   "outputs": [],
   "source": []
  },
  {
   "cell_type": "code",
   "execution_count": null,
   "id": "6a127af9-9a08-4941-91cd-7bf47cb6010d",
   "metadata": {},
   "outputs": [],
   "source": []
  }
 ],
 "metadata": {
  "kernelspec": {
   "display_name": "Python 3 (ipykernel)",
   "language": "python",
   "name": "python3"
  },
  "language_info": {
   "codemirror_mode": {
    "name": "ipython",
    "version": 3
   },
   "file_extension": ".py",
   "mimetype": "text/x-python",
   "name": "python",
   "nbconvert_exporter": "python",
   "pygments_lexer": "ipython3",
   "version": "3.10.8"
  }
 },
 "nbformat": 4,
 "nbformat_minor": 5
}
