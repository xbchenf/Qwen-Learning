{
 "cells": [
  {
   "metadata": {},
   "cell_type": "markdown",
   "source": [
    "# 环境准备&模型下载\n",
    "\n",
    "## （一）基础环境要求\n",
    "在开启部署之旅前，务必要确保开发环境符合以下标准：\n",
    "- **操作系统** ：推荐选用 Linux 系统（Ubuntu 20.04 及以上版本为宜）\n",
    "- **硬件配置** ：为保障模型推理的流畅性，建议配备 NVIDIA GPU（至少RTX 3090/4090，建议采用L20 或 A100 系列）\n",
    "- **Python 版本** ：Python 版本范围在 3.8 - 3.12 之间（3.12 版本为优先推荐），以确保兼容性与功能性。\n",
    "\n",
    "## （二）安装相关依赖\n",
    "1. 安装 `transformers` 库，版本需大于等于 4.51.0。可以通过以下命令安装：\n",
    "```\n",
    "pip install transformers accelerate\n",
    "```\n",
    "安装accelerate，主要用于简化和加速机器学习和深度学习模型的训练和推理过程。\n",
    "安装完成如下：\n",
    "\n",
    "2. 推荐使用 `modelscope` 从魔塔模型库中下载模型权重文件。安装命令如下：\n",
    "```\n",
    "pip install modelscope\n",
    "```\n",
    "安装如下：\n",
    "\n",
    "# 二、模型下载\n",
    "我们先将模型文件下载到本地目录，我可以借助 ModelScope 下载模型文件\n",
    "## （一）使用bash命令下载\n",
    "在终端中执行如下 bash 命令，即可启动模型下载进程：\n",
    "```bash\n",
    "modelscope download --local_dir ./Qwen3-8B Qwen/Qwen3-8B\n",
    "```\n",
    "\n",
    "## （二）使用python代码下载\n",
    "使用 modelscope 中的 snapshot_download 函数下载模型（提前安装modelscope ：pip install modelscope）。第一个参数为模型名称，参数 cache_dir 用于指定模型的下载路径。在 /root/autodl-tmp 路径下新建 download_model.ipynb 文件，并在其中输入以下内容：\n",
    "```python\n",
    "from modelscope import snapshot_download\n",
    "model_dir = snapshot_download('Qwen/Qwen3-8B', cache_dir='/root/autodl-tmp', revision='master')\n",
    "```\n"
   ],
   "id": "7f85c68a110a8ec7"
  },
  {
   "cell_type": "code",
   "execution_count": null,
   "id": "646d2de6-1fea-4ce5-b2be-e89ad9eb7ed0",
   "metadata": {},
   "outputs": [],
   "source": []
  }
 ],
 "metadata": {
  "kernelspec": {
   "display_name": "Python 3 (ipykernel)",
   "language": "python",
   "name": "python3"
  },
  "language_info": {
   "codemirror_mode": {
    "name": "ipython",
    "version": 3
   },
   "file_extension": ".py",
   "mimetype": "text/x-python",
   "name": "python",
   "nbconvert_exporter": "python",
   "pygments_lexer": "ipython3",
   "version": "3.12.3"
  }
 },
 "nbformat": 4,
 "nbformat_minor": 5
}
