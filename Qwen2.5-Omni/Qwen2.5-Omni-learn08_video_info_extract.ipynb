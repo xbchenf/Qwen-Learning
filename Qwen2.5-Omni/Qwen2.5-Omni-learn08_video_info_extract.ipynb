{
 "cells": [
  {
   "cell_type": "markdown",
   "id": "f2c16396",
   "metadata": {},
   "source": [
    "# Qwen2.5-Omni：视频信息提取的多模态应用探索\n",
    "\n",
    "我们体验一下如何利用Qwen2.5-Omni从视频流中获取信息。"
   ]
  },
  {
   "cell_type": "markdown",
   "id": "f87bd6a0734e936e",
   "metadata": {},
   "source": [
    "# 环境准备\n",
    "\n",
    "如果前面已经安装准备完成，跳过此章节\n",
    "\n",
    "## 安装相关依赖\n",
    "安装transformers、qwen-omni-utils、flash-attn --no-build-isolation\n",
    "\n",
    "```bash\n",
    "pip uninstall transformers\n",
    "pip install git+https://github.com/huggingface/transformers@f742a644ca32e65758c3adb36225aef1731bd2a8\n",
    "pip install accelerate\n",
    "pip install triton\n",
    "pip install qwen-omni-utils\n",
    "pip install -U flash-attn --no-build-isolation\n",
    "# 用于从魔塔模型库下载模型\n",
    "pip install modelscope\n",
    "```\n",
    "\n",
    "\n",
    "\n",
    "## 模型下载准备\n",
    "\n",
    "需要提前将模型下载到本地备用\n",
    "使用 modelscope 中的 snapshot_download 函数下载模型（提前安装modelscope）。\n",
    "第一个参数为模型名称，第二个参数 cache_dir 用于指定模型的下载路径.\n",
    "```python\n",
    "\n",
    "from modelscope import snapshot_download\n",
    "model_dir = snapshot_download('Qwen/Qwen2.5-Omni-7B', cache_dir='/root/autodl-tmp', revision='master')\n",
    "\n",
    "```"
   ]
  },
  {
   "cell_type": "markdown",
   "id": "dbbc371f-dcae-436c-8670-10b2ded33829",
   "metadata": {},
   "source": [
    "# 加载模型&导入依赖\n",
    "\n",
    "加载本地下载的模型，同时启用flash_attention_2加速"
   ]
  },
  {
   "cell_type": "code",
   "execution_count": 1,
   "id": "49cb2a45-6273-4539-92ca-625b79efb85c",
   "metadata": {},
   "outputs": [
    {
     "name": "stderr",
     "output_type": "stream",
     "text": [
      "You are attempting to use Flash Attention 2.0 without specifying a torch dtype. This might lead to unexpected behaviour\n",
      "Qwen2_5OmniToken2WavModel must inference with fp32, but flash_attention_2 only supports fp16 and bf16, attention implementation of Qwen2_5OmniToken2WavModel will fallback to sdpa.\n"
     ]
    },
    {
     "data": {
      "application/vnd.jupyter.widget-view+json": {
       "model_id": "7e89a38c787d4a9ebfe4a742426a6b3b",
       "version_major": 2,
       "version_minor": 0
      },
      "text/plain": [
       "Loading checkpoint shards:   0%|          | 0/5 [00:00<?, ?it/s]"
      ]
     },
     "metadata": {},
     "output_type": "display_data"
    }
   ],
   "source": [
    "import torch\n",
    "from transformers import Qwen2_5OmniModel, Qwen2_5OmniProcessor\n",
    "from IPython.display import Video\n",
    "\n",
    "model_path = \"/root/autodl-tmp/Qwen/Qwen2.5-Omni-7B\"\n",
    "model = Qwen2_5OmniModel.from_pretrained(\n",
    "    model_path,\n",
    "    torch_dtype=torch.bfloat16,\n",
    "    device_map=\"auto\",\n",
    "    attn_implementation=\"flash_attention_2\",\n",
    ")\n",
    "processor = Qwen2_5OmniProcessor.from_pretrained(model_path)"
   ]
  },
  {
   "cell_type": "markdown",
   "id": "9ec13f04e1d95436",
   "metadata": {},
   "source": [
    "# 定义推理函数\n",
    "\n",
    "推理函数，用于处理视频输入和文本提示，并生成文本输出。"
   ]
  },
  {
   "cell_type": "code",
   "execution_count": 3,
   "id": "9596c50d-80a8-433f-b846-1fbf61145ccc",
   "metadata": {
    "ExecutionIndicator": {
     "show": true
    },
    "tags": []
   },
   "outputs": [],
   "source": [
    "from qwen_omni_utils import process_mm_info  # 导入用于处理多模态信息的工具函数\n",
    "\n",
    "# @title inference function\n",
    "def inference(video_path, prompt, sys_prompt):\n",
    "    \"\"\"\n",
    "    推理函数，用于处理视频输入和文本提示，并生成文本输出。\n",
    "\n",
    "    参数：\n",
    "    - video_path: 视频文件路径\n",
    "    - prompt: 用户提供的文本提示\n",
    "    - sys_prompt: 系统提示，用于定义模型的角色和行为\n",
    "\n",
    "    返回值：\n",
    "    - text: 模型生成的文本输出\n",
    "    \"\"\"\n",
    "    # 构建输入消息，包括系统消息和用户消息\n",
    "    messages = [\n",
    "        {\"role\": \"system\", \"content\": sys_prompt},  # 系统消息，定义模型的角色和行为\n",
    "        {\"role\": \"user\", \"content\": [  # 用户消息，包含文本提示和视频输入\n",
    "                {\"type\": \"text\", \"text\": prompt},  # 文本提示\n",
    "                {\"type\": \"video\", \"video\": video_path},  # 视频输入路径\n",
    "            ]\n",
    "        },\n",
    "    ]\n",
    "\n",
    "    # 使用 processor 应用聊天模板，将消息转换为模型可处理的文本格式\n",
    "    # 参数 tokenize=False 表示不对文本进行分词处理，add_generation_prompt=True 表示添加生成提示\n",
    "    text = processor.apply_chat_template(messages, tokenize=False, add_generation_prompt=True)\n",
    "\n",
    "    # 调用 process_mm_info 函数处理多模态信息\n",
    "    # 提取音频、图像和视频信息，use_audio_in_video=False 表示不从视频中提取音频信息\n",
    "    audios, images, videos = process_mm_info(messages, use_audio_in_video=False)\n",
    "\n",
    "    # 使用 processor 将文本、音频、图像和视频信息转换为模型输入张量\n",
    "    # return_tensors=\"pt\" 表示返回 PyTorch 张量，padding=True 表示对输入进行填充以匹配最大长度\n",
    "    inputs = processor(text=text, audios=audios, images=images, videos=videos, return_tensors=\"pt\", padding=True, use_audio_in_video=False)\n",
    "\n",
    "    # 将输入张量移动到模型所在的设备和数据类型\n",
    "    inputs = inputs.to(model.device).to(model.dtype)\n",
    "\n",
    "    # 调用模型的 generate 方法生成输出\n",
    "    # use_audio_in_video=False 表示在生成过程中不使用音频信息，return_audio=False 表示不返回音频输出\n",
    "    output = model.generate(**inputs, use_audio_in_video=False, return_audio=False)\n",
    "\n",
    "    # 解码生成的文本输出\n",
    "    # skip_special_tokens=True 表示跳过特殊标记，clean_up_tokenization_spaces=False 表示不清理多余的空格\n",
    "    text = processor.batch_decode(output, skip_special_tokens=True, clean_up_tokenization_spaces=False)\n",
    "\n",
    "    # 返回生成的文本结果\n",
    "    return text"
   ]
  },
  {
   "cell_type": "markdown",
   "id": "6a47ad45",
   "metadata": {},
   "source": [
    "# 基于视频提问（一）"
   ]
  },
  {
   "cell_type": "code",
   "execution_count": 4,
   "id": "1935af5e",
   "metadata": {
    "ExecutionIndicator": {
     "show": true
    },
    "tags": []
   },
   "outputs": [
    {
     "data": {
      "text/html": [
       "<video src=\"files/shopping.mp4\" controls  width=\"640\"  height=\"360\">\n",
       "      Your browser does not support the <code>video</code> element.\n",
       "    </video>"
      ],
      "text/plain": [
       "<IPython.core.display.Video object>"
      ]
     },
     "metadata": {},
     "output_type": "display_data"
    },
    {
     "name": "stderr",
     "output_type": "stream",
     "text": [
      "WARNING:root:System prompt modified, audio output may not work as expected. Audio output mode only works when using default system prompt 'You are Qwen, a virtual human developed by the Qwen Team, Alibaba Group, capable of perceiving auditory and visual inputs, as well as generating text and speech.'\n",
      "qwen-vl-utils using torchvision to read video.\n",
      "/root/miniconda3/lib/python3.12/site-packages/torch/nn/modules/conv.py:605: UserWarning: Plan failed with a cudnnException: CUDNN_BACKEND_EXECUTION_PLAN_DESCRIPTOR: cudnnFinalize Descriptor Failed cudnn_status: CUDNN_STATUS_NOT_SUPPORTED (Triggered internally at ../aten/src/ATen/native/cudnn/Conv_v8.cpp:919.)\n",
      "  return F.conv3d(\n"
     ]
    },
    {
     "name": "stdout",
     "output_type": "stream",
     "text": [
      "system\n",
      "You are a helpful assistant.\n",
      "user\n",
      "How many kind of drinks can you see in the video?\n",
      "assistant\n",
      "There are five different kinds of drinks visible in the video.\n"
     ]
    }
   ],
   "source": [
    "#video_path = \"https://qianwen-res.oss-cn-beijing.aliyuncs.com/Qwen2.5-Omni/shopping.mp4\"\n",
    "video_path = \"files/shopping.mp4\"\n",
    "\n",
    "prompt = \"How many kind of drinks can you see in the video?\"\n",
    "\n",
    "display(Video(video_path, width=640, height=360))\n",
    "\n",
    "## Use a local HuggingFace model to inference.\n",
    "response = inference(video_path, prompt=prompt, sys_prompt=\"You are a helpful assistant.\")\n",
    "print(response[0])"
   ]
  },
  {
   "attachments": {
    "c8cc20fa-f59a-41c2-8dd4-a7de998e51f9.png": {
     "image/png": "[encoded data removed]"
    }
   },
   "cell_type": "markdown",
   "id": "7d047e40-fa22-4efc-9d70-41682e966599",
   "metadata": {},
   "source": [
    "资源消耗如下：\n",
    "\n",
    "![image.png](attachment:c8cc20fa-f59a-41c2-8dd4-a7de998e51f9.png)"
   ]
  },
  {
   "cell_type": "markdown",
   "id": "f9961aae",
   "metadata": {},
   "source": [
    "# 基于视频提问（二）"
   ]
  },
  {
   "cell_type": "code",
   "execution_count": null,
   "id": "0894f5f1",
   "metadata": {
    "ExecutionIndicator": {
     "show": true
    },
    "execution": {
     "iopub.execute_input": "2025-01-29T12:44:01.387553Z",
     "iopub.status.busy": "2025-01-29T12:44:01.386725Z",
     "iopub.status.idle": "2025-01-29T12:44:09.671782Z",
     "shell.execute_reply": "2025-01-29T12:44:09.671200Z",
     "shell.execute_reply.started": "2025-01-29T12:44:01.387530Z"
    },
    "tags": []
   },
   "outputs": [
    {
     "data": {
      "text/html": [
       "<video src=\"https://qianwen-res.oss-cn-beijing.aliyuncs.com/Qwen2.5-Omni/shopping.mp4\" controls  width=\"640\"  height=\"360\">\n",
       "      Your browser does not support the <code>video</code> element.\n",
       "    </video>"
      ],
      "text/plain": [
       "<IPython.core.display.Video object>"
      ]
     },
     "metadata": {},
     "output_type": "display_data"
    },
    {
     "name": "stderr",
     "output_type": "stream",
     "text": [
      "WARNING:root:System prompt modified, audio output may not work as expected. Audio output mode only works when using default system prompt 'You are Qwen, a virtual human developed by the Qwen Team, Alibaba Group, capable of perceiving auditory and visual inputs, as well as generating text and speech.'\n"
     ]
    },
    {
     "name": "stdout",
     "output_type": "stream",
     "text": [
      "system\n",
      "You are a helpful assistant.\n",
      "user\n",
      "How many bottles of drinks have I picked up?\n",
      "assistant\n",
      "You have picked up two bottles of drinks.\n"
     ]
    }
   ],
   "source": [
    "#video_path = \"https://qianwen-res.oss-cn-beijing.aliyuncs.com/Qwen2.5-Omni/shopping.mp4\"\n",
    "video_path = \"files/shopping.mp4\"\n",
    "prompt = \"How many bottles of drinks have I picked up?\"\n",
    "\n",
    "display(Video(video_path, width=640, height=360))\n",
    "\n",
    "## Use a local HuggingFace model to inference.\n",
    "response = inference(video_path, prompt=prompt, sys_prompt=\"You are a helpful assistant.\")\n",
    "print(response[0])"
   ]
  },
  {
   "cell_type": "markdown",
   "id": "4e9b7651",
   "metadata": {},
   "source": [
    "# 基于视频提问（三）"
   ]
  },
  {
   "cell_type": "code",
   "execution_count": null,
   "id": "16aa3dc5",
   "metadata": {},
   "outputs": [
    {
     "data": {
      "text/html": [
       "<video src=\"https://qianwen-res.oss-cn-beijing.aliyuncs.com/Qwen2.5-Omni/shopping.mp4\" controls  width=\"640\"  height=\"360\">\n",
       "      Your browser does not support the <code>video</code> element.\n",
       "    </video>"
      ],
      "text/plain": [
       "<IPython.core.display.Video object>"
      ]
     },
     "metadata": {},
     "output_type": "display_data"
    },
    {
     "name": "stderr",
     "output_type": "stream",
     "text": [
      "WARNING:root:System prompt modified, audio output may not work as expected. Audio output mode only works when using default system prompt 'You are Qwen, a virtual human developed by the Qwen Team, Alibaba Group, capable of perceiving auditory and visual inputs, as well as generating text and speech.'\n"
     ]
    },
    {
     "name": "stdout",
     "output_type": "stream",
     "text": [
      "system\n",
      "You are a helpful assistant.\n",
      "user\n",
      "How many milliliters are there in the bottle I picked up second time?\n",
      "assistant\n",
      "The bottle you picked up second time contains 500 milliliters of liquid.\n"
     ]
    }
   ],
   "source": [
    "#video_path = \"https://qianwen-res.oss-cn-beijing.aliyuncs.com/Qwen2.5-Omni/shopping.mp4\"\n",
    "video_path = \"files/shopping.mp4\"\n",
    "prompt = \"How many milliliters are there in the bottle I picked up second time?\"\n",
    "\n",
    "display(Video(video_path, width=640, height=360))\n",
    "\n",
    "## Use a local HuggingFace model to inference.\n",
    "response = inference(video_path, prompt=prompt, sys_prompt=\"You are a helpful assistant.\")\n",
    "print(response[0])"
   ]
  }
 ],
 "metadata": {
  "kernelspec": {
   "display_name": "Python 3 (ipykernel)",
   "language": "python",
   "name": "python3"
  },
  "language_info": {
   "codemirror_mode": {
    "name": "ipython",
    "version": 3
   },
   "file_extension": ".py",
   "mimetype": "text/x-python",
   "name": "python",
   "nbconvert_exporter": "python",
   "pygments_lexer": "ipython3",
   "version": "3.12.3"
  }
 },
 "nbformat": 4,
 "nbformat_minor": 5
}
