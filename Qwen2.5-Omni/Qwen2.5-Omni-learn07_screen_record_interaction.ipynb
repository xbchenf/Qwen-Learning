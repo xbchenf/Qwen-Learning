{
 "cells": [
  {
   "cell_type": "markdown",
   "id": "f2c16396",
   "metadata": {},
   "source": [
    "# Qwen2.5-Omni：通过屏幕录制实现智能信息交互\n",
    "通过在录制屏幕上实时提问，使用Qwen2.5-Omni获取想了解的信息和内容。"
   ]
  },
  {
   "cell_type": "markdown",
   "id": "5803792363fd8f9a",
   "metadata": {},
   "source": [
    "# 环境准备\n",
    "\n",
    "如果前面已经安装准备完成，跳过此章节\n",
    "\n",
    "## 安装相关依赖\n",
    "安装transformers、qwen-omni-utils、flash-attn --no-build-isolation\n",
    "\n",
    "```bash\n",
    "pip uninstall transformers\n",
    "pip install git+https://github.com/huggingface/transformers@f742a644ca32e65758c3adb36225aef1731bd2a8\n",
    "pip install accelerate\n",
    "pip install triton\n",
    "pip install qwen-omni-utils\n",
    "pip install -U flash-attn --no-build-isolation\n",
    "# 用于从魔塔模型库下载模型\n",
    "pip install modelscope\n",
    "```\n",
    "\n",
    "\n",
    "\n",
    "## 模型下载准备\n",
    "\n",
    "需要提前将模型下载到本地备用\n",
    "使用 modelscope 中的 snapshot_download 函数下载模型（提前安装modelscope）。\n",
    "第一个参数为模型名称，第二个参数 cache_dir 用于指定模型的下载路径.\n",
    "```python\n",
    "\n",
    "from modelscope import snapshot_download\n",
    "model_dir = snapshot_download('Qwen/Qwen2.5-Omni-7B', cache_dir='/root/autodl-tmp', revision='master')\n",
    "\n",
    "```"
   ]
  },
  {
   "cell_type": "markdown",
   "id": "ae6ad11a-4500-4ce4-9d2e-84ae817f5c5a",
   "metadata": {},
   "source": [
    "# 加载模型&导入依赖\n",
    "\n",
    "加载本地下载的模型，同时启用flash_attention_2加速"
   ]
  },
  {
   "cell_type": "code",
   "execution_count": 2,
   "id": "039fceb5-3ccc-4fef-8025-65307983f19d",
   "metadata": {},
   "outputs": [
    {
     "name": "stderr",
     "output_type": "stream",
     "text": [
      "You are attempting to use Flash Attention 2.0 without specifying a torch dtype. This might lead to unexpected behaviour\n",
      "Qwen2_5OmniToken2WavModel must inference with fp32, but flash_attention_2 only supports fp16 and bf16, attention implementation of Qwen2_5OmniToken2WavModel will fallback to sdpa.\n"
     ]
    },
    {
     "data": {
      "application/vnd.jupyter.widget-view+json": {
       "model_id": "76e2603338e14286a828e36ebcc48954",
       "version_major": 2,
       "version_minor": 0
      },
      "text/plain": [
       "Loading checkpoint shards:   0%|          | 0/5 [00:00<?, ?it/s]"
      ]
     },
     "metadata": {},
     "output_type": "display_data"
    }
   ],
   "source": [
    "import torch\n",
    "from transformers import Qwen2_5OmniModel, Qwen2_5OmniProcessor\n",
    "from IPython.display import Video\n",
    "\n",
    "model_path = \"/root/autodl-tmp/Qwen/Qwen2.5-Omni-7B\"\n",
    "model = Qwen2_5OmniModel.from_pretrained(\n",
    "    model_path,\n",
    "    torch_dtype=torch.bfloat16,\n",
    "    device_map=\"auto\",\n",
    "    attn_implementation=\"flash_attention_2\",\n",
    ")\n",
    "processor = Qwen2_5OmniProcessor.from_pretrained(model_path)"
   ]
  },
  {
   "cell_type": "markdown",
   "id": "69c0e33cf236d2a1",
   "metadata": {},
   "source": [
    "# 定义推理函数\n",
    "\n",
    "推理函数，用于处理视频输入和文本提示，并生成文本输出。"
   ]
  },
  {
   "cell_type": "code",
   "execution_count": 3,
   "id": "9596c50d-80a8-433f-b846-1fbf61145ccc",
   "metadata": {
    "ExecutionIndicator": {
     "show": true
    },
    "tags": []
   },
   "outputs": [],
   "source": [
    "from qwen_omni_utils import process_mm_info  # 导入处理多媒体信息的工具函数\n",
    "\n",
    "# @title inference function\n",
    "def inference(video_path, prompt, sys_prompt):\n",
    "    # 构建对话消息列表，包括系统提示和用户输入\n",
    "    messages = [\n",
    "        {\"role\": \"system\", \"content\": sys_prompt},  # 系统角色消息\n",
    "        {\"role\": \"user\", \"content\": [  # 用户角色消息\n",
    "                {\"type\": \"text\", \"text\": prompt},  # 文本类型消息\n",
    "                {\"type\": \"video\", \"video\": video_path},  # 视频类型消息\n",
    "            ]\n",
    "        },\n",
    "    ]\n",
    "\n",
    "    # 使用处理器将消息列表转换为模型输入文本，不进行分词，添加生成提示\n",
    "    text = processor.apply_chat_template(messages, tokenize=False, add_generation_prompt=True)\n",
    "\n",
    "    # 处理视觉信息，获取音频、图像和视频数据\n",
    "    # image_inputs, video_inputs = process_vision_info([messages])\n",
    "    audios, images, videos = process_mm_info(messages, use_audio_in_video=False)\n",
    "\n",
    "    # 将文本和多媒体数据转换为模型输入张量，指定返回PyTorch张量，进行填充，不使用视频中的音频\n",
    "    inputs = processor(text=text, audios=audios, images=images, videos=videos, return_tensors=\"pt\", padding=True, use_audio_in_video=False)\n",
    "\n",
    "    # 将输入数据移动到模型设备上，并转换为模型数据类型\n",
    "    inputs = inputs.to(model.device).to(model.dtype)\n",
    "\n",
    "    # 使用模型生成输出，不使用视频中的音频，不返回音频\n",
    "    output = model.generate(**inputs, use_audio_in_video=False, return_audio=False)\n",
    "\n",
    "    # 使用处理器批量解码模型输出，跳过特殊标记，不清理分词空格\n",
    "    text = processor.batch_decode(output, skip_special_tokens=True, clean_up_tokenization_spaces=False)\n",
    "\n",
    "    # 返回生成的文本\n",
    "    return text\n"
   ]
  },
  {
   "cell_type": "markdown",
   "id": "6a47ad45",
   "metadata": {},
   "source": [
    "# 视频理解"
   ]
  },
  {
   "cell_type": "code",
   "execution_count": 4,
   "id": "1935af5e",
   "metadata": {
    "ExecutionIndicator": {
     "show": true
    },
    "tags": []
   },
   "outputs": [
    {
     "data": {
      "text/html": [
       "<video src=\"files/screen.mp4\" controls  width=\"640\"  height=\"360\">\n",
       "      Your browser does not support the <code>video</code> element.\n",
       "    </video>"
      ],
      "text/plain": [
       "<IPython.core.display.Video object>"
      ]
     },
     "metadata": {},
     "output_type": "display_data"
    },
    {
     "name": "stderr",
     "output_type": "stream",
     "text": [
      "WARNING:root:System prompt modified, audio output may not work as expected. Audio output mode only works when using default system prompt 'You are Qwen, a virtual human developed by the Qwen Team, Alibaba Group, capable of perceiving auditory and visual inputs, as well as generating text and speech.'\n",
      "qwen-vl-utils using torchvision to read video.\n",
      "/root/miniconda3/lib/python3.12/site-packages/torch/nn/modules/conv.py:605: UserWarning: Plan failed with a cudnnException: CUDNN_BACKEND_EXECUTION_PLAN_DESCRIPTOR: cudnnFinalize Descriptor Failed cudnn_status: CUDNN_STATUS_NOT_SUPPORTED (Triggered internally at ../aten/src/ATen/native/cudnn/Conv_v8.cpp:919.)\n",
      "  return F.conv3d(\n"
     ]
    },
    {
     "name": "stdout",
     "output_type": "stream",
     "text": [
      "system\n",
      "You are a helpful assistant.\n",
      "user\n",
      "What the browser is used in this video?\n",
      "assistant\n",
      "The browser used in the video is Google Chrome.\n"
     ]
    }
   ],
   "source": [
    "# video_path = \"https://qianwen-res.oss-cn-beijing.aliyuncs.com/Qwen2.5-Omni/screen.mp4\"\n",
    "video_path = \"files/screen.mp4\"\n",
    "prompt = \"What the browser is used in this video?\"\n",
    "\n",
    "display(Video(video_path, width=640, height=360))\n",
    "\n",
    "## 调用模型进行推理（通过system提示，指定模型角色）.\n",
    "response = inference(video_path, prompt=prompt, sys_prompt=\"You are a helpful assistant.\")\n",
    "print(response[0])"
   ]
  },
  {
   "cell_type": "markdown",
   "id": "f9961aae",
   "metadata": {},
   "source": [
    "# OCR识别"
   ]
  },
  {
   "cell_type": "code",
   "execution_count": 5,
   "id": "0894f5f1",
   "metadata": {
    "ExecutionIndicator": {
     "show": true
    },
    "tags": []
   },
   "outputs": [
    {
     "data": {
      "text/html": [
       "<video src=\"files/screen.mp4\" controls  width=\"640\"  height=\"360\">\n",
       "      Your browser does not support the <code>video</code> element.\n",
       "    </video>"
      ],
      "text/plain": [
       "<IPython.core.display.Video object>"
      ]
     },
     "metadata": {},
     "output_type": "display_data"
    },
    {
     "name": "stderr",
     "output_type": "stream",
     "text": [
      "WARNING:root:System prompt modified, audio output may not work as expected. Audio output mode only works when using default system prompt 'You are Qwen, a virtual human developed by the Qwen Team, Alibaba Group, capable of perceiving auditory and visual inputs, as well as generating text and speech.'\n"
     ]
    },
    {
     "name": "stdout",
     "output_type": "stream",
     "text": [
      "system\n",
      "You are a helpful assistant.\n",
      "user\n",
      "Who is the authors of this paper?\n",
      "assistant\n",
      "The authors of the paper \"Attention Is All You Need\" are:\n",
      "\n",
      "1. Ashish Vaswani\n",
      "2. Noam Shazeer\n",
      "3. Niki Parmar\n",
      "4. Jakob Uszkoreit\n",
      "5. Llion Jones\n",
      "6. Aidan N. Gomez\n",
      "7. Lukasz Kaiser\n",
      "8. Illia Polosukhin\n"
     ]
    }
   ],
   "source": [
    "# video_path = \"https://qianwen-res.oss-cn-beijing.aliyuncs.com/Qwen2.5-Omni/screen.mp4\"\n",
    "video_path = \"files/screen.mp4\"\n",
    "prompt = \"Who is the authors of this paper?\"\n",
    "\n",
    "display(Video(video_path, width=640, height=360))\n",
    "\n",
    "## 调用模型进行推理（通过system提示，指定模型角色）.\n",
    "response = inference(video_path, prompt=prompt, sys_prompt=\"You are a helpful assistant.\")\n",
    "print(response[0])"
   ]
  },
  {
   "cell_type": "markdown",
   "id": "4e9b7651",
   "metadata": {},
   "source": [
    "# 总结提炼"
   ]
  },
  {
   "cell_type": "code",
   "execution_count": 6,
   "id": "16aa3dc5",
   "metadata": {},
   "outputs": [
    {
     "data": {
      "text/html": [
       "<video src=\"files/screen.mp4\" controls  width=\"640\"  height=\"360\">\n",
       "      Your browser does not support the <code>video</code> element.\n",
       "    </video>"
      ],
      "text/plain": [
       "<IPython.core.display.Video object>"
      ]
     },
     "metadata": {},
     "output_type": "display_data"
    },
    {
     "name": "stderr",
     "output_type": "stream",
     "text": [
      "WARNING:root:System prompt modified, audio output may not work as expected. Audio output mode only works when using default system prompt 'You are Qwen, a virtual human developed by the Qwen Team, Alibaba Group, capable of perceiving auditory and visual inputs, as well as generating text and speech.'\n"
     ]
    },
    {
     "name": "stdout",
     "output_type": "stream",
     "text": [
      "system\n",
      "You are a helpful assistant.\n",
      "user\n",
      "Summarize this paper in short.\n",
      "assistant\n",
      "The paper \"Attention Is All You Need\" introduces the Transformer model, a novel architecture for sequence-to-sequence tasks that relies entirely on self-attention mechanisms. The Transformer outperforms existing models in machine translation tasks, achieving state-of-the-art BLEU scores on WMT 2014 English-German and English-French translation tasks. The model is trained using a stack of identical layers, each containing self-attention mechanisms and position-wise feed-forward networks. The paper also discusses the application of the Transformer to other tasks, such as English constituency parsing, and highlights its advantages over traditional recurrent neural network architectures.\n"
     ]
    }
   ],
   "source": [
    "#video_path = \"https://qianwen-res.oss-cn-beijing.aliyuncs.com/Qwen2.5-Omni/screen.mp4\"\n",
    "video_path = \"files/screen.mp4\"\n",
    "prompt = \"Summarize this paper in short.\"\n",
    "\n",
    "display(Video(video_path, width=640, height=360))\n",
    "\n",
    "## 调用模型进行推理（通过system提示，指定模型角色）.\n",
    "response = inference(video_path, prompt=prompt, sys_prompt=\"You are a helpful assistant.\")\n",
    "print(response[0])"
   ]
  },
  {
   "cell_type": "code",
   "execution_count": null,
   "id": "856fa73e-8b98-4b9f-a066-37fb0aa0ab71",
   "metadata": {},
   "outputs": [],
   "source": []
  },
  {
   "cell_type": "markdown",
   "id": "8dd58bbd",
   "metadata": {},
   "source": [
    "# AI助手（理解+翻译）"
   ]
  },
  {
   "cell_type": "code",
   "execution_count": null,
   "id": "7cea7d11",
   "metadata": {},
   "outputs": [
    {
     "data": {
      "text/html": [
       "<video src=\"files/screen.mp4\" controls  width=\"640\"  height=\"360\">\n",
       "      Your browser does not support the <code>video</code> element.\n",
       "    </video>"
      ],
      "text/plain": [
       "<IPython.core.display.Video object>"
      ]
     },
     "metadata": {},
     "output_type": "display_data"
    },
    {
     "name": "stderr",
     "output_type": "stream",
     "text": [
      "WARNING:root:System prompt modified, audio output may not work as expected. Audio output mode only works when using default system prompt 'You are Qwen, a virtual human developed by the Qwen Team, Alibaba Group, capable of perceiving auditory and visual inputs, as well as generating text and speech.'\n"
     ]
    }
   ],
   "source": [
    "# video_path = \"https://qianwen-res.oss-cn-beijing.aliyuncs.com/Qwen2.5-Omni/screen.mp4\"\n",
    "video_path = \"files/screen.mp4\"\n",
    "prompt = \"Please trranslate the abstract of paper into Chinese.\"\n",
    "\n",
    "display(Video(video_path, width=640, height=360))\n",
    "\n",
    "## 调用模型进行推理（通过system提示，指定模型角色）.\n",
    "response = inference(video_path, prompt=prompt, sys_prompt=\"You are a helpful assistant.\")\n",
    "print(response[0])"
   ]
  },
  {
   "attachments": {
    "8a76bed3-8de4-4516-a973-5bff9e3ba39c.png": {
     "image/png": "[encoded data removed]"
    }
   },
   "cell_type": "markdown",
   "id": "4402a999-908d-46d2-ae65-232e91a9396f",
   "metadata": {},
   "source": [
    "这一步推理效果不是很好，非常缓慢。。。。。\n",
    "\n",
    "GPU资源消耗如下：\n",
    "![image.png](attachment:8a76bed3-8de4-4516-a973-5bff9e3ba39c.png)"
   ]
  },
  {
   "cell_type": "code",
   "execution_count": null,
   "id": "2ae2422a-b009-40d0-b95c-5cb32f970fd3",
   "metadata": {},
   "outputs": [],
   "source": []
  }
 ],
 "metadata": {
  "kernelspec": {
   "display_name": "Python 3 (ipykernel)",
   "language": "python",
   "name": "python3"
  },
  "language_info": {
   "codemirror_mode": {
    "name": "ipython",
    "version": 3
   },
   "file_extension": ".py",
   "mimetype": "text/x-python",
   "name": "python",
   "nbconvert_exporter": "python",
   "pygments_lexer": "ipython3",
   "version": "3.12.3"
  }
 },
 "nbformat": 4,
 "nbformat_minor": 5
}
